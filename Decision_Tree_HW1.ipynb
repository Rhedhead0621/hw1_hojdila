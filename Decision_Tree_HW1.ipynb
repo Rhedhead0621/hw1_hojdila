{
 "cells": [
  {
   "cell_type": "code",
   "execution_count": null,
   "id": "346d3bd4-480d-4f81-a4b4-138721d63a9a",
   "metadata": {
    "tags": []
   },
   "outputs": [],
   "source": [
    "import pandas as pd\n",
    "import numpy as np\n",
    "import matplotlib.pyplot as plt\n",
    "from IPython.display import Image\n",
    "from sklearn.model_selection import train_test_split"
   ]
  },
  {
   "cell_type": "code",
   "execution_count": null,
   "id": "376b0ab7-2b94-4bff-a3e2-589bddba008c",
   "metadata": {
    "tags": []
   },
   "outputs": [],
   "source": [
    "import matplotlib.image as mpimg"
   ]
  },
  {
   "cell_type": "code",
   "execution_count": null,
   "id": "e9e15134-473e-427f-8880-04752b354b33",
   "metadata": {
    "tags": []
   },
   "outputs": [],
   "source": [
    "%matplotlib inline"
   ]
  },
  {
   "cell_type": "markdown",
   "id": "bd351eea-03db-4c09-b233-2d43e82d1a73",
   "metadata": {},
   "source": [
    "Need train and test DF"
   ]
  },
  {
   "cell_type": "code",
   "execution_count": null,
   "id": "262e9c8a-1ab8-4b52-8863-7b00aff72fe0",
   "metadata": {
    "tags": []
   },
   "outputs": [],
   "source": [
    "tree_df = pd.read_csv(\"data/kc_house_data_classification.csv\")"
   ]
  },
  {
   "cell_type": "code",
   "execution_count": null,
   "id": "936f4f94-3e03-4244-8dc6-08b537da3584",
   "metadata": {
    "tags": []
   },
   "outputs": [],
   "source": [
    "tree_df"
   ]
  },
  {
   "cell_type": "code",
   "execution_count": null,
   "id": "24e67356-0112-437d-9479-ee3a69543816",
   "metadata": {
    "tags": []
   },
   "outputs": [],
   "source": [
    "tree_df.info()"
   ]
  },
  {
   "cell_type": "code",
   "execution_count": null,
   "id": "f85d0f7c-418e-4947-89a5-c08457d0c0bd",
   "metadata": {
    "tags": []
   },
   "outputs": [],
   "source": [
    "tree_df.head()"
   ]
  },
  {
   "cell_type": "code",
   "execution_count": null,
   "id": "d7354642-5584-4f96-8de9-7f6673ee2064",
   "metadata": {
    "tags": []
   },
   "outputs": [],
   "source": [
    "train_df, test_df = train_test_split(tree_df, test_size=0.2, random_state=73) "
   ]
  },
  {
   "cell_type": "code",
   "execution_count": null,
   "id": "092e1f6e-7cd5-4622-8e61-7f482fa4aa6f",
   "metadata": {
    "tags": []
   },
   "outputs": [],
   "source": [
    "train_df.head()"
   ]
  },
  {
   "cell_type": "code",
   "execution_count": null,
   "id": "2a1b50ca-ea9e-48e3-a5c2-d97fb054f647",
   "metadata": {
    "tags": []
   },
   "outputs": [],
   "source": [
    "features = list(train_df.columns[0:18])\n",
    "print(features)"
   ]
  },
  {
   "cell_type": "code",
   "execution_count": null,
   "id": "e55581e0-bfda-49f6-808d-d12e6745b4d2",
   "metadata": {
    "tags": []
   },
   "outputs": [],
   "source": [
    "# Set the features variable, X for both the training and test data\n",
    "X = train_df[features]\n",
    "X_test = test_df[features]\n",
    "\n",
    "# Set the target variable, y\n",
    "y = train_df[\"price_gt_1M\"]\n",
    "\n",
    "print(f\"X is a {X.shape} matrix of type {type(X)}\\n\")\n",
    "print(f\"X_test is a {X_test.shape} matrix of type {type(X_test)}\\n\")\n",
    "print(f\"y is a {y.shape} vector of type {type(y)}\\n\")"
   ]
  },
  {
   "cell_type": "code",
   "execution_count": null,
   "id": "0ffc031e-8ae4-4ea7-9f4f-22d9c6de03fc",
   "metadata": {
    "tags": []
   },
   "outputs": [],
   "source": [
    "from sklearn.tree import DecisionTreeClassifier"
   ]
  },
  {
   "cell_type": "code",
   "execution_count": null,
   "id": "8d9039dc-ccc5-454c-8c54-8157f415708a",
   "metadata": {
    "tags": []
   },
   "outputs": [],
   "source": [
    "# Create a DecisionTreeClassifier model. \n",
    "tree_1 = DecisionTreeClassifier(min_samples_split=20)\n",
    "# Fit the model using our features and target variables\n",
    "tree_1.fit(X, y)\n",
    "# Get % accuracy on the training data using the score() method\n",
    "tree_1.score(X, y)"
   ]
  },
  {
   "cell_type": "code",
   "execution_count": null,
   "id": "29cf6e14-549a-4b6f-8a7b-9f285a621b89",
   "metadata": {
    "tags": []
   },
   "outputs": [],
   "source": [
    "# Create a DecisionTreeClassifier model. \n",
    "tree_1 = DecisionTreeClassifier(min_samples_split=20)\n",
    "# Fit the model using our features and target variables\n",
    "tree_1.fit(X.values, y.values)\n",
    "# Get % accuracy on the training data using the score() method\n",
    "tree_1.score(X.values, y.values)"
   ]
  },
  {
   "cell_type": "code",
   "execution_count": null,
   "id": "56730b4f-d60a-49a7-b431-d067bdfbe466",
   "metadata": {
    "tags": []
   },
   "outputs": [],
   "source": [
    "# Classes - if we forced sklearn to pick a class for each data row, these are what it picked\n",
    "tree_1_testclasses = tree_1.predict(X_test.values)\n",
    "tree_1_testclasses"
   ]
  },
  {
   "cell_type": "code",
   "execution_count": null,
   "id": "06e08a5d-a8f9-41b0-a281-88e5a770c1af",
   "metadata": {
    "tags": []
   },
   "outputs": [],
   "source": [
    "# Class probabilities - just the first three rows and first 15 cols\n",
    "tree_1_testprobs = tree_1.predict_proba(X_test.values)\n",
    "tree_1_testprobs"
   ]
  },
  {
   "cell_type": "markdown",
   "id": "ecfefc67-dee2-4545-82e2-59769bcea62b",
   "metadata": {},
   "source": [
    "I was getting errors:\n",
    "\n",
    "https://stackoverflow.com/questions/69326639/sklearn-warning-valid-feature-names-in-version-1-0\n",
    "\n",
    "model_reg.fit(scaled_x_train, y_train[vp].values)\n",
    "data_pred = model_reg.predict(scaled_x_test.values)\n",
    "\n",
    "model_reg.fit(scaled_x_train.values, y_train[vp].values)\n",
    "data_pred = model_reg.predict(scaled_x_test.values)"
   ]
  },
  {
   "cell_type": "code",
   "execution_count": null,
   "id": "61954558-1e65-4de8-8067-5414b6226db9",
   "metadata": {
    "tags": []
   },
   "outputs": [],
   "source": [
    "from sklearn.metrics import confusion_matrix, ConfusionMatrixDisplay\n",
    "\n",
    "# Confusion matrix for Tree\n",
    "titles_options = [(\"Confusion matrix for tree, without normalization\", None),\n",
    "                  (\"Normalized confusion matrix for train\", 'true')]\n",
    "\n",
    "for title, normalize in titles_options:\n",
    "    disp = ConfusionMatrixDisplay.from_estimator(tree_1, X, y,\n",
    "                                 cmap=plt.cm.Blues,\n",
    "                                 normalize=normalize)\n",
    "    disp.ax_.set_title(title)\n",
    "\n",
    "    print(title)\n",
    "    print(disp.confusion_matrix)\n",
    "\n",
    "plt.show()"
   ]
  },
  {
   "cell_type": "code",
   "execution_count": null,
   "id": "2d6daa18-f7d4-45a2-a13b-2df284162e10",
   "metadata": {
    "tags": []
   },
   "outputs": [],
   "source": [
    "from sklearn.tree import export_graphviz\n",
    "import subprocess"
   ]
  },
  {
   "cell_type": "code",
   "execution_count": null,
   "id": "956abeb4-0d20-44d4-b432-781cfa49ba57",
   "metadata": {
    "tags": []
   },
   "outputs": [],
   "source": [
    "def visualize_tree(tree, feature_names, dot_filename, png_filename):\n",
    "    \"\"\"Create tree png using graphviz.\n",
    "\n",
    "    Args\n",
    "    ----\n",
    "    tree -- scikit-learn DecisionTree.\n",
    "    feature_names -- list of feature names.\n",
    "    \"\"\"\n",
    "    with open(dot_filename, 'w') as f:\n",
    "        export_graphviz(tree, out_file=f,\n",
    "                        feature_names=feature_names)\n",
    "\n",
    "    command = [\"dot\", \"-Tpng\", dot_filename, \"-o\", png_filename]\n",
    "    try:\n",
    "        subprocess.run(args=command, shell=True, check=True)\n",
    "    except:\n",
    "        exit(\"Could not run dot, ie graphviz, to \"\n",
    "             \"produce visualization\")"
   ]
  },
  {
   "cell_type": "code",
   "execution_count": null,
   "id": "17b40b37-da78-4109-b543-37954b2a2722",
   "metadata": {
    "tags": []
   },
   "outputs": [],
   "source": [
    "visualize_tree(tree_1, features, \"output/dt.dot\", \"output/dt.png\")"
   ]
  },
  {
   "cell_type": "code",
   "execution_count": null,
   "id": "5deaa8dd-fa42-4ac0-a5ab-b798c1d96665",
   "metadata": {
    "tags": []
   },
   "outputs": [],
   "source": [
    "command = [\"dot\", \"-Tpng\", \"output/dt.dot\", \"-o\", \"output/dt.png\"]\n",
    "\" \".join(command)"
   ]
  },
  {
   "cell_type": "code",
   "execution_count": null,
   "id": "48a84958-7df7-43e7-b9cd-ef6a9f14b051",
   "metadata": {
    "tags": []
   },
   "outputs": [],
   "source": [
    "from IPython.display import Image\n",
    "Image(\"output/dt.png\")"
   ]
  },
  {
   "cell_type": "code",
   "execution_count": null,
   "id": "650128b2-d074-4da6-91e5-6f9d3f3872ce",
   "metadata": {
    "tags": []
   },
   "outputs": [],
   "source": [
    "from sklearn import tree\n",
    "text_representation = tree.export_text(tree_1)\n",
    "print(text_representation)"
   ]
  },
  {
   "cell_type": "code",
   "execution_count": null,
   "id": "9794f084-7bc3-4cde-b689-aa4bf9804c23",
   "metadata": {
    "tags": []
   },
   "outputs": [],
   "source": [
    "# the image isn't there, just the image symbol\n",
    "\n",
    "file = open(\"output.html\", \"w\")\n",
    "\n",
    "# Write HTML content\n",
    "file.write('<img src=\"dt.png\">')\n",
    "\n",
    "# Close the file\n",
    "file.close()\n",
    "\n",
    "print(\"HTML file successfully written.\")"
   ]
  },
  {
   "cell_type": "code",
   "execution_count": null,
   "id": "375c5500-c57c-4f73-839b-edc9cf265355",
   "metadata": {
    "tags": []
   },
   "outputs": [],
   "source": [
    "# this opened the image into my photo viewer - for some reason it wouldn't open it from the output folder - you can zoom in\n",
    "import webbrowser\n",
    "webbrowser.open_new_tab(\"dt.png\")"
   ]
  },
  {
   "cell_type": "code",
   "execution_count": null,
   "id": "f6db0929-a6a1-46fb-9802-772c617f9348",
   "metadata": {},
   "outputs": [],
   "source": []
  }
 ],
 "metadata": {
  "kernelspec": {
   "display_name": "Python [conda env:aap]",
   "language": "python",
   "name": "conda-env-aap-py"
  },
  "language_info": {
   "codemirror_mode": {
    "name": "ipython",
    "version": 3
   },
   "file_extension": ".py",
   "mimetype": "text/x-python",
   "name": "python",
   "nbconvert_exporter": "python",
   "pygments_lexer": "ipython3",
   "version": "3.12.3"
  }
 },
 "nbformat": 4,
 "nbformat_minor": 5
}
