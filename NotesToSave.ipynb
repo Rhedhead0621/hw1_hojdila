{
 "cells": [
  {
   "cell_type": "markdown",
   "id": "90e40cfa-7436-472c-811e-f477bbb59abd",
   "metadata": {},
   "source": [
    "Notes to save"
   ]
  },
  {
   "cell_type": "code",
   "execution_count": 7,
   "id": "bb279027-2e0e-41c1-bad0-b0ef9cb1fcca",
   "metadata": {
    "tags": []
   },
   "outputs": [],
   "source": [
    "import pandas as pd"
   ]
  },
  {
   "cell_type": "code",
   "execution_count": 9,
   "id": "125e48a0-6ea4-400b-87bc-842bf9e65d82",
   "metadata": {
    "tags": []
   },
   "outputs": [],
   "source": [
    "df1 = pd.DataFrame({'a':range(6),\n",
    "                    'b':[5,3,6,9,2,4]}, index=list('abcdef'))\n",
    "\n",
    "df2 = pd.DataFrame({'c':range(4),\n",
    "                    'd':[10,20,30, 40]}, index=list('abhi'))"
   ]
  },
  {
   "cell_type": "code",
   "execution_count": 11,
   "id": "ac88cf59-f84d-49d4-b8d4-278a3fa75214",
   "metadata": {
    "tags": []
   },
   "outputs": [
    {
     "data": {
      "text/html": [
       "<div>\n",
       "<style scoped>\n",
       "    .dataframe tbody tr th:only-of-type {\n",
       "        vertical-align: middle;\n",
       "    }\n",
       "\n",
       "    .dataframe tbody tr th {\n",
       "        vertical-align: top;\n",
       "    }\n",
       "\n",
       "    .dataframe thead th {\n",
       "        text-align: right;\n",
       "    }\n",
       "</style>\n",
       "<table border=\"1\" class=\"dataframe\">\n",
       "  <thead>\n",
       "    <tr style=\"text-align: right;\">\n",
       "      <th></th>\n",
       "      <th>a</th>\n",
       "      <th>b</th>\n",
       "    </tr>\n",
       "  </thead>\n",
       "  <tbody>\n",
       "    <tr>\n",
       "      <th>a</th>\n",
       "      <td>0</td>\n",
       "      <td>5</td>\n",
       "    </tr>\n",
       "    <tr>\n",
       "      <th>b</th>\n",
       "      <td>1</td>\n",
       "      <td>3</td>\n",
       "    </tr>\n",
       "    <tr>\n",
       "      <th>c</th>\n",
       "      <td>2</td>\n",
       "      <td>6</td>\n",
       "    </tr>\n",
       "    <tr>\n",
       "      <th>d</th>\n",
       "      <td>3</td>\n",
       "      <td>9</td>\n",
       "    </tr>\n",
       "    <tr>\n",
       "      <th>e</th>\n",
       "      <td>4</td>\n",
       "      <td>2</td>\n",
       "    </tr>\n",
       "    <tr>\n",
       "      <th>f</th>\n",
       "      <td>5</td>\n",
       "      <td>4</td>\n",
       "    </tr>\n",
       "  </tbody>\n",
       "</table>\n",
       "</div>"
      ],
      "text/plain": [
       "   a  b\n",
       "a  0  5\n",
       "b  1  3\n",
       "c  2  6\n",
       "d  3  9\n",
       "e  4  2\n",
       "f  5  4"
      ]
     },
     "execution_count": 11,
     "metadata": {},
     "output_type": "execute_result"
    }
   ],
   "source": [
    "df1"
   ]
  },
  {
   "cell_type": "code",
   "execution_count": 13,
   "id": "e1706cf6-fda0-48f2-b3e1-259d824299fd",
   "metadata": {
    "tags": []
   },
   "outputs": [
    {
     "data": {
      "text/html": [
       "<div>\n",
       "<style scoped>\n",
       "    .dataframe tbody tr th:only-of-type {\n",
       "        vertical-align: middle;\n",
       "    }\n",
       "\n",
       "    .dataframe tbody tr th {\n",
       "        vertical-align: top;\n",
       "    }\n",
       "\n",
       "    .dataframe thead th {\n",
       "        text-align: right;\n",
       "    }\n",
       "</style>\n",
       "<table border=\"1\" class=\"dataframe\">\n",
       "  <thead>\n",
       "    <tr style=\"text-align: right;\">\n",
       "      <th></th>\n",
       "      <th>c</th>\n",
       "      <th>d</th>\n",
       "    </tr>\n",
       "  </thead>\n",
       "  <tbody>\n",
       "    <tr>\n",
       "      <th>a</th>\n",
       "      <td>0</td>\n",
       "      <td>10</td>\n",
       "    </tr>\n",
       "    <tr>\n",
       "      <th>b</th>\n",
       "      <td>1</td>\n",
       "      <td>20</td>\n",
       "    </tr>\n",
       "    <tr>\n",
       "      <th>h</th>\n",
       "      <td>2</td>\n",
       "      <td>30</td>\n",
       "    </tr>\n",
       "    <tr>\n",
       "      <th>i</th>\n",
       "      <td>3</td>\n",
       "      <td>40</td>\n",
       "    </tr>\n",
       "  </tbody>\n",
       "</table>\n",
       "</div>"
      ],
      "text/plain": [
       "   c   d\n",
       "a  0  10\n",
       "b  1  20\n",
       "h  2  30\n",
       "i  3  40"
      ]
     },
     "execution_count": 13,
     "metadata": {},
     "output_type": "execute_result"
    }
   ],
   "source": [
    "df2"
   ]
  },
  {
   "cell_type": "code",
   "execution_count": 16,
   "id": "35f94870-d9ac-4b32-97fd-a5fa956ac367",
   "metadata": {
    "tags": []
   },
   "outputs": [
    {
     "name": "stdout",
     "output_type": "stream",
     "text": [
      "   a  b  c   d\n",
      "a  0  5  0  10\n",
      "b  1  3  1  20\n"
     ]
    }
   ],
   "source": [
    "# Default inner join\n",
    "df3 = pd.merge(df1, df2, left_index=True, right_index=True)\n",
    "print (df3)"
   ]
  },
  {
   "cell_type": "code",
   "execution_count": 19,
   "id": "a9610b22-2fc5-47e3-92d4-dc8e7665f9cf",
   "metadata": {
    "tags": []
   },
   "outputs": [
    {
     "name": "stdout",
     "output_type": "stream",
     "text": [
      "     a    b    c     d\n",
      "a  0.0  5.0  0.0  10.0\n",
      "b  1.0  3.0  1.0  20.0\n",
      "c  2.0  6.0  NaN   NaN\n",
      "d  3.0  9.0  NaN   NaN\n",
      "e  4.0  2.0  NaN   NaN\n",
      "f  5.0  4.0  NaN   NaN\n",
      "h  NaN  NaN  2.0  30.0\n",
      "i  NaN  NaN  3.0  40.0\n"
     ]
    }
   ],
   "source": [
    "# Default outer join\n",
    "df5 = pd.concat([df1, df2], axis=1)\n",
    "print (df5)"
   ]
  },
  {
   "cell_type": "code",
   "execution_count": null,
   "id": "26ff2d1e-7b39-4ac5-8dd9-8542c4ea8f16",
   "metadata": {},
   "outputs": [],
   "source": [
    "# applying merge, joined on Name\n",
    "df_merged = df1.merge(df2[['Name', 'Grade', 'Rank']])\n",
    "print(df_merged)"
   ]
  },
  {
   "cell_type": "code",
   "execution_count": null,
   "id": "beed3df4-c787-4268-a7f9-201423f2ccd2",
   "metadata": {},
   "outputs": [],
   "source": [
    "# save df to csv, without index\n",
    "df_merged.to_csv('merged.csv', index=False)"
   ]
  },
  {
   "cell_type": "code",
   "execution_count": null,
   "id": "d0e67765-e295-4847-9105-eed7a42c6ae5",
   "metadata": {},
   "outputs": [],
   "source": [
    "# add a column with conditions\n",
    "df['hasimage'] = np.where(df['photos']!= '[]', True, False)\n",
    "df.head()"
   ]
  },
  {
   "cell_type": "code",
   "execution_count": null,
   "id": "e49647b7-aa8c-484d-a494-1f98b236d2e6",
   "metadata": {},
   "outputs": [],
   "source": [
    "# make a dataframe from column, keeping only trues\n",
    "result_df= df.loc[df['result']==True]"
   ]
  },
  {
   "cell_type": "code",
   "execution_count": null,
   "id": "b3fe575a-aebb-40fb-bfff-1392110b62d8",
   "metadata": {},
   "outputs": [],
   "source": [
    "# histogram notes\n",
    "# libraries\n",
    "import numpy as np\n",
    "import matplotlib.pyplot as plt\n",
    " \n",
    "# create dataset\n",
    "height = [3, 12, 5, 18, 45]\n",
    "bars = ('A', 'B', 'C', 'D', 'E')\n",
    "x_pos = np.arange(len(bars))\n",
    " \n",
    "# Create bars and choose color\n",
    "plt.bar(x_pos, height, color = (0.5,0.1,0.5,0.6))\n",
    " \n",
    "# Add title and axis names\n",
    "plt.title('My title')\n",
    "plt.xlabel('categories')\n",
    "plt.ylabel('values')\n",
    " \n",
    "# Create names on the x axis\n",
    "plt.xticks(x_pos, bars)\n",
    " \n",
    "# Show graph\n",
    "plt.show()"
   ]
  },
  {
   "cell_type": "code",
   "execution_count": null,
   "id": "30237c0f-2fa3-43c9-b53a-1faa3349de57",
   "metadata": {},
   "outputs": [],
   "source": [
    "def df_column_switch(df, column1, column2):\n",
    "    i = list(df.columns)\n",
    "    a, b = i.index(column1), i.index(column2)\n",
    "    i[b], i[a] = i[a], i[b]\n",
    "    df = df[i]\n",
    "    return df"
   ]
  }
 ],
 "metadata": {
  "kernelspec": {
   "display_name": "Python [conda env:aap]",
   "language": "python",
   "name": "conda-env-aap-py"
  },
  "language_info": {
   "codemirror_mode": {
    "name": "ipython",
    "version": 3
   },
   "file_extension": ".py",
   "mimetype": "text/x-python",
   "name": "python",
   "nbconvert_exporter": "python",
   "pygments_lexer": "ipython3",
   "version": "3.12.3"
  }
 },
 "nbformat": 4,
 "nbformat_minor": 5
}
